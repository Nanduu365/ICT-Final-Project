{
  "cells": [
    {
      "cell_type": "markdown",
      "metadata": {
        "id": "fxGWlCrjx62v"
      },
      "source": [
        "# Dataset"
      ]
    },
    {
      "cell_type": "code",
      "execution_count": 1,
      "metadata": {},
      "outputs": [],
      "source": [
        "# %pip install yfinance"
      ]
    },
    {
      "cell_type": "code",
      "execution_count": 2,
      "metadata": {
        "id": "GFYj4PKn1TCt"
      },
      "outputs": [],
      "source": [
        "#Importing libraries\n",
        "import yfinance as yf\n",
        "import pandas as pd\n",
        "import numpy as np\n",
        "import matplotlib.pyplot as plt\n",
        "from sklearn.preprocessing import MinMaxScaler"
      ]
    },
    {
      "cell_type": "code",
      "execution_count": 3,
      "metadata": {
        "colab": {
          "base_uri": "https://localhost:8080/",
          "height": 339
        },
        "id": "6Oqpr7VujsNO",
        "outputId": "3a27ba42-e8e9-4003-fab6-8b69a24da67b"
      },
      "outputs": [],
      "source": [
        "# stock = None\n",
        "\n",
        "\n",
        "# def get_stock_data(ticker,period=\"max\", interval=\"1d\"):#the function retrieves the data of about the specified period with the interval mentioned - here 6month data with 1day interval\n",
        "#     '''This function gets the name of stock(ticker name) from the user and creates a ticker object\n",
        "#     and retrieves the basic historic stock price data from yahoo finance'''\n",
        "\n",
        "#     global stock  #changing the stock variable that is outside the function\n",
        "\n",
        "\n",
        "#     stock = yf.Ticker(ticker)     #creating a ticker object - simply an object that represents the specified stock.\n",
        "#     data = stock.history(period=period, interval=interval, actions = True) #gets the historical price data from yahoo finance\n",
        "\n",
        "#     return data\n",
        "\n",
        "#checking the data from yahoo finance\n",
        "# data = get_stock_data('AAPL')  #AAPL is the tickername for apple"
      ]
    },
    {
      "cell_type": "markdown",
      "metadata": {
        "id": "MSkMhZRrddMM"
      },
      "source": [
        "A ticker symbol is a unique series of letters assigned to a publicly traded company's stock or other securities for identification on a stock exchange.\n",
        "\n",
        "For example:\n",
        "\n",
        "AAPL → Apple Inc. (Nasdaq)\n",
        "\n",
        "Ticker symbols vary in format depending on the exchange:\n",
        "\n",
        "Usually the stock name is like this - symbolname.stock exchange name\n",
        "for-eg - 'Reliance.NS' where relianace is the symbol name and NS indicated national stock exchange of India.\n",
        "\n",
        "Close is the closing price - the price of the stock when the stock market is closed on each day. Same goes for open. It is the proice of the stock when the stock market is opened.\n",
        "\n",
        "High and low are the highest and lowest prices of the stock in each day"
      ]
    },
    {
      "cell_type": "code",
      "execution_count": 4,
      "metadata": {
        "id": "euamqZfMmUcq"
      },
      "outputs": [],
      "source": [
        "def calculate_indicators(data):\n",
        "    '''This function calculates differenct indices that efficiently represents the stock price movements\n",
        "    and add it to the existing data'''\n",
        "\n",
        "    #Trend Based Features (Momentum Indiactors) - Cptures the direction and strength of price movements\n",
        "    data[\"SMA_50\"] = data[\"Close\"].rolling(window=50).mean()  # .rolling() method in Pandas is used to create a rolling window (or moving window) over a time series. This allows us to compute statistics like moving averages, standard deviations, and other aggregate functions over a fixed number of past values.\n",
        "    data[\"SMA_200\"] = data[\"Close\"].rolling(window=200).mean()\n",
        "    data[\"RSI\"] = compute_rsi(data[\"Close\"], 14)\n",
        "\n",
        "    data[\"MACD\"], data[\"Signal\"] = compute_macd(data[\"Close\"])\n",
        "    data[\"Bollinger_Upper\"], data['Bollinger_middle'],data[\"Bollinger_Lower\"] = compute_bollinger_bands(data[\"Close\"])\n",
        "    data[\"VWAP\"] = compute_vwap(data)\n",
        "    \n",
        "    #Volatility Based Features - Cpatures market uncertainity and price fluctuations\n",
        "    data[\"ATR\"] = compute_atr(data)\n",
        "    data['Volatility_10'] = data['Close'].rolling(window=10).std()  #Rolling Standard deviation (Volatility)\n",
        "\n",
        "    #Price Based features\n",
        "    data['Daily_Return'] = data['Close'].pct_change()  # Measures the daily returns\n",
        "    data['Cumulative_Return'] = (1+data['Daily_Return']).cumprod()  # 1 is added to convert % changes into a cumative growth factor\n",
        "\n",
        "    #Volume Based Features - help detect market participation and smart money movement\n",
        "    data['OBV'] = compute_OBV(data)  # On-Balance Volume\n",
        "    data['VMA_10'] = data['Volume'].rolling(window = 10).mean()  #Calculate the moving avg for the volume data for every 10 days\n",
        "\n",
        "    #Lagged Features - adds previous values to the data as features so that the model can easily learn patterns\n",
        "    data['Close_Lag_1'] = data['Close'].shift(1) #adds previous day's close price\n",
        "    data['Close_Lag_7'] = data['Close'].shift(7) # adds the previous weeks close price\n",
        "    data['Close_Lag_30'] = data['Close'].shift(30) # adds the previous weeks close price\n",
        "    \n",
        "    data['Return_Lag_1'] = data['Daily_Return'].shift(1) #adds the previus days returns\n",
        "    data['Return_Lag_7'] = data['Daily_Return'].shift(7) #adds the previus weeks returns\n",
        "    data['Return_Lag_30'] = data['Daily_Return'].shift(30) #adds the previus month's returns\n",
        "    \n",
        "    #Advanced Statistical Features - capture deep insights from the price action\n",
        "    data['Skewness'] = data['Daily_Return'].rolling(30).skew() #skewness\n",
        "    data['Kurtosis'] = data['Daily_Return'].rolling(30).kurt() #calculates kurtosis - oth measures return distribution\n",
        "    \n",
        "    #Fibonacci based features - They are great for finding trend reversals, it predicts retracement and breakout points\n",
        "    data['Fib_23.6'], data['Fib_38.2'], data['Fib_61.8'], data['Fib_78.6'] = compute_fibonacci(data)\n",
        "    \n",
        "    #Time Based Features - helps in identifying seasonality effects. It alos helps in finding the holiday effects and the recurring market behaviours\n",
        "    data['Day'] = data.index.dayofweek\n",
        "    data['Month'] = data.index.month\n",
        "    data['Year'] = data.index.year\n",
        "    data['Is_Weekend'] = (data['Day']>=5).astype(int)\n",
        "\n",
        "    #Features that indiacte smart money Flow - It captures big institutional moves\n",
        "    # data['ADI'] = compute_ADI(data)  #returns Accumulation/Distribution Index\n",
        "    data['Typical_Price'], data['Money_Flow'],data['MFI'] = compute_MFI(data) #returns money flow index\n",
        "    \n",
        "\n",
        "    \n",
        "    \n",
        "    return data"
      ]
    },
    {
      "cell_type": "markdown",
      "metadata": {
        "id": "owE4_Ia_xRGa"
      },
      "source": [
        "**SMA 50**(50- Day Simple Moving Average) (Short-Term Trend) → Represents the average stock price over the last 50 days. It reflects short-term momentum and is used to gauge recent price trends.\n",
        "\n",
        "**SMA_200 (200-Day Simple Moving Average)** – A trend-following indicator that calculates the average stock price over the past 200 days. It helps identify long-term trends and support/resistance levels. It helps determine the overall market direction and long-term sentiment.\n",
        "\n",
        "**How do they affect the stock prices** :\n",
        "+ When SMA 50 crosses above SMA 200, it signals strong upward momentum → BUY signal\n",
        "+ When SMA 50 crosses below SMA 200, it signals downward momentum → SELL signal\n",
        "\n"
      ]
    },
    {
      "cell_type": "code",
      "execution_count": 5,
      "metadata": {
        "id": "E2DztYuf5fgI"
      },
      "outputs": [],
      "source": [
        "def compute_rsi(series, period=14):\n",
        "    '''Computes the Relative strength index'''\n",
        "\n",
        "    #calculate the difference of closing price of each day with the next one\n",
        "    difference = series.diff(1)\n",
        "\n",
        "    #calcluate the gain and loss -\n",
        "    #a positive value in the diffence column indicates a gain\n",
        "    #while the negative value indicates a loss\n",
        "    gain = (difference.where(difference > 0, 0))\n",
        "    loss = (abs(difference.where(difference < 0, 0))) #computes the absolute loss\n",
        "\n",
        "    #calculate the gain and loss for a period of 14 days for each 14 days available consicutively\n",
        "    avg_gain = gain.rolling(window=period).mean()\n",
        "    avg_loss = loss.rolling(window=period).mean()\n",
        "\n",
        "    rs = avg_gain / avg_loss  #calculate rs\n",
        "    rsi = 100 - (100 / (1 + rs))  #this is the formula for RSI\n",
        "    return rsi"
      ]
    },
    {
      "cell_type": "markdown",
      "metadata": {
        "id": "M2TL4qpY3tsp"
      },
      "source": [
        "**RSI (Relative Strength Index)** – A momentum indicator that measures the speed and change of price movements on a scale of 0 to 100. RSI above 70 indicates overbought conditions, while below 30 suggests oversold conditions.\n",
        "\n",
        "+ RSI doesn’t directly affect stock prices, but it influences trader behavior and market sentiment, leading to price movements.\n",
        "​\n",
        "+ If RSI rises above 70, traders may start selling (profit-taking).\n",
        "+ If RSI drops below 30, traders may buy the dip, pushing prices up.\n"
      ]
    },
    {
      "cell_type": "code",
      "execution_count": 6,
      "metadata": {
        "id": "fXdnA1wdA3Bi"
      },
      "outputs": [],
      "source": [
        "def compute_macd(series, short=12, long=26, signal=9):\n",
        "    '''Computes the MACD'''\n",
        "    short_ema = series.ewm(span=short, adjust=False).mean() #EMA of 12 days\n",
        "    long_ema = series.ewm(span=long, adjust=False).mean() #EMA of 26 days\n",
        "\n",
        "    macd = short_ema - long_ema #calculates the macd line\n",
        "    signal_line = macd.ewm(span=signal, adjust=False).mean() #calculates the signal line\n",
        "    return macd, signal_line"
      ]
    },
    {
      "cell_type": "markdown",
      "metadata": {
        "id": "xuGwpja5A7C6"
      },
      "source": [
        "**MACD (Moving Average Convergence Divergence)** – A trend-following momentum indicator that shows the relationship between two moving averages (typically the 12-day and 26-day EMA(exponential moving averages). It helps identify trend direction, strength, and potential reversals.\n",
        "\n",
        "So how it works-\n",
        "First the exponential moving average (EMA) of 12 days and 26 days are calculated. EMA is similar to SMA but it assigns a greater weight to the  recent prices. Bith EMA will a series of values\n",
        "\n",
        "The difference between the short and long EMA is called the macd line\n",
        "\n",
        "The EMA of the macd line for a period of 9 days is called a signal line.\n",
        "\n",
        "+ When the MACD Line crosses above the Signal Line, it suggests increasing upward momentum.\n",
        "  + Traders buy the stock at this point.\n",
        "\n",
        "+ When the MACD Line crosses below the Signal Line, it suggests increasing downward momentum.\n",
        "  + Traders sell the stock at this point."
      ]
    },
    {
      "cell_type": "code",
      "execution_count": 7,
      "metadata": {
        "id": "iC8M0e3YBYir"
      },
      "outputs": [],
      "source": [
        "def compute_bollinger_bands(series, window=20, num_std=2):\n",
        "    '''Computes the Bollinger_bands'''\n",
        "\n",
        "    sma = series.rolling(window=window).mean() #calculates the simple moving average(SMA) for 20 days\n",
        "    std_dev = series.rolling(window=window).std() #std deviation of 20 days correspondimg to the sma\n",
        "\n",
        "    upper_band = sma + (num_std * std_dev)\n",
        "    middle_band = sma\n",
        "    lower_band = sma - (num_std * std_dev)\n",
        "    return upper_band, middle_band,lower_band"
      ]
    },
    {
      "cell_type": "markdown",
      "metadata": {
        "id": "xq_tJkXpBWkG"
      },
      "source": [
        "**Bollinger_Bands** –Bollinger Bands measures volatility. The band expand and contarc based on the market volatility\n",
        "\n",
        "Middle Band (SMA 20) → A 20-day Simple Moving Average (SMA)\n",
        "\n",
        "Upper Band → SMA + (2 × Standard Deviation)\n",
        "\n",
        "Lower Band → SMA - (2 × Standard Deviation)\n",
        "\n",
        "**How Bollinger Bands Reflect Stock Prices?**\n",
        "+ When Price Touches the Upper Band → Stock is overbought (possible reversal or correction).\n",
        "+ When Price Touches the Lower Band → Stock is oversold (possible buying opportunity).\n",
        "+ When Bands Expand → High volatility (price is making big moves).\n",
        "+ When Bands Contract → Low volatility (price is in a consolidation phase)."
      ]
    },
    {
      "cell_type": "code",
      "execution_count": 8,
      "metadata": {
        "id": "Wd5rMZrpBaie"
      },
      "outputs": [],
      "source": [
        "def compute_atr(data, period=14):\n",
        "    '''Computes the ATR'''\n",
        "    high_low = data[\"High\"] - data[\"Low\"] #The diffence between the high and low values of a stock\n",
        "    high_close = np.abs(data[\"High\"] - data[\"Close\"].shift()) #The absolute difference between high and previous close value\n",
        "    #.shift() is used to shift values of a series/dataframe up or down\n",
        "    #this essentially helps to calculate the difference between the current high and preivious close.\n",
        "\n",
        "    low_close = np.abs(data[\"Low\"] - data[\"Close\"].shift()) #the absolute difference between low value and the previous close value\n",
        "    tr = pd.concat([high_low, high_close, low_close], axis=1).max(axis=1) #Choosing the max of the above 3 values\n",
        "\n",
        "    return tr.rolling(window=period).mean()  #the sma of the tr values"
      ]
    },
    {
      "cell_type": "markdown",
      "metadata": {
        "id": "4G5zYp_8BflM"
      },
      "source": [
        "**ATR (Average True Range)** – A volatility indicator that measures the range between a stock’s high and low prices over a set period. Higher ATR values indicate higher volatility.\n",
        "\n",
        "It is a volatility indicator that measures how much a stock moves on average per day.\n",
        "\n",
        "ATR is based on the True Range (TR), which captures the actual movement of a stock.\n",
        "For each day, the True Range (TR) is the largest of the following three values:\n",
        "\n",
        "High - Low (Current day's range)\n",
        "High - Previous Close (Gap-up scenario)\n",
        "Low - Previous Close (Gap-down scenario)\n",
        "\n",
        "The max of the above three is called the TR value.\n",
        "This ensures that ATR accounts for both intraday volatility and gaps between days.\n",
        "\n",
        "Then a SMA or EMA is calculated over a specific period (usually 14) to get the average true range. Here we have done SMA for simplicity."
      ]
    },
    {
      "cell_type": "code",
      "execution_count": 9,
      "metadata": {
        "id": "TLdap_3EBmiN"
      },
      "outputs": [],
      "source": [
        "def compute_vwap(data):\n",
        "    '''Computes the Volume weighted average price'''\n",
        "    price = (data[\"High\"] + data[\"Low\"] + data[\"Close\"]) / 3 #taking the avg of the three - low high and close values\n",
        "    vwap = (data['Volume']*price).cumsum() / data['Volume'].cumsum() #calculating the vwap\n",
        "\n",
        "    return vwap"
      ]
    },
    {
      "cell_type": "markdown",
      "metadata": {
        "id": "VYFVQlctBk7P"
      },
      "source": [
        "**VWAP (Volume Weighted Average Price)** – A trading benchmark that gives the average price a stock has traded at throughout the day, weighted by volume. It helps traders determine the stock’s trend relative to its average price.\n",
        "\n",
        "**How it is Calculated**\n",
        "vwap = sum(price*volume)/sum(volume)\n",
        "\n",
        "here price = (high+low+close)/3\n",
        "sum is cumulative sum."
      ]
    },
    {
      "cell_type": "code",
      "execution_count": 10,
      "metadata": {},
      "outputs": [],
      "source": [
        "def compute_OBV(data):\n",
        "    '''Calculate the On Balance Volume'''\n",
        "    price_difference = data['Close'].diff()  #calculates the price difference from the previous day\n",
        "    price_difference = np.sign(price_difference) \n",
        "    #This gives 1 for positive change - indicating price increase\n",
        "    #This gives -1 for negative change - indicating price decrease\n",
        "    #This gives 0 for no change - indicating no price movement\n",
        "\n",
        "    obv = (data['Volume']*price_difference).cumsum() #takes the the cumulative sum of the product of the volume and price difference\n",
        "    \n",
        "    return obv"
      ]
    },
    {
      "cell_type": "code",
      "execution_count": 11,
      "metadata": {},
      "outputs": [],
      "source": [
        "def compute_fibonacci(data,period = 30):\n",
        "    '''Calculate multiple fibonacci retracement levels'''\n",
        "\n",
        "    high = data['High'].rolling(period).max()\n",
        "    low= data['Low'].rolling(period).min()\n",
        "\n",
        "    data['Fib_23.6'] = low + (high - low) * 0.236\n",
        "    data['Fib_38.2'] = low + (high - low) * 0.382\n",
        "    data['Fib_61.8'] = low + (high - low) * 0.618\n",
        "    data['Fib_78.6'] = low + (high - low) * 0.786\n",
        "\n",
        "    return  data['Fib_23.6'], data['Fib_38.2'], data['Fib_61.8'], data['Fib_78.6']"
      ]
    },
    {
      "cell_type": "code",
      "execution_count": 12,
      "metadata": {},
      "outputs": [],
      "source": [
        "def compute_ADI(data):\n",
        "    '''Calculates the Accumulation/Distribution Index'''\n",
        "    data['ADI'] = ((data['Close'] - data['Low']) - (data['High'] - data['Close'])) / (data['High'] - data['Low']) * data['Volume']\n",
        "    data['ADI'] = data['ADI'].cumsum()\n",
        "\n",
        "    return  data['ADI']\n",
        "\n",
        "\n",
        "def compute_MFI(data):\n",
        "    '''Caluclates the Money Flow Index'''\n",
        "\n",
        "    # Calculate the Typical Price\n",
        "    data['Typical_Price'] = (data['High'] + data['Low'] + data['Close']) / 3\n",
        "\n",
        "    # Calculate the Money Flow\n",
        "    data['Money_Flow'] = data['Typical_Price'] * data['Volume']\n",
        "\n",
        "    # Identify Positive and Negative Money Flow\n",
        "    data['Positive_MF'] = data['Money_Flow'].where(data['Typical_Price'] > data['Typical_Price'].shift(1), 0)\n",
        "    data['Negative_MF'] = data['Money_Flow'].where(data['Typical_Price'] < data['Typical_Price'].shift(1), 0)\n",
        "\n",
        "    # Sum Positive and Negative Money Flow over 14 periods\n",
        "    positive_flow = data['Positive_MF'].rolling(14).sum()\n",
        "    negative_flow = data['Negative_MF'].rolling(14).sum()\n",
        "\n",
        "    # Calculate the Money Flow Index (MFI)\n",
        "    money_flow_ratio = positive_flow / negative_flow\n",
        "    data['MFI'] = 100 - (100 / (1 + money_flow_ratio))\n",
        "\n",
        "    return data['Typical_Price'],  data['Money_Flow'],  data['MFI']\n",
        "\n",
        "\n"
      ]
    },
    {
      "cell_type": "code",
      "execution_count": 13,
      "metadata": {
        "id": "5ElnggMCkEX3"
      },
      "outputs": [],
      "source": [
        "def get_fundamental_data(ticker):\n",
        "    stock = yf.Ticker(ticker)\n",
        "    info = stock.info\n",
        "    return {\n",
        "        \"Market Cap\": info.get(\"marketCap\"),\n",
        "        \"P/E Ratio\": info.get(\"trailingPE\"),\n",
        "        \"EPS\": info.get(\"trailingEps\"),\n",
        "        \"Dividend Yield\": info.get(\"dividendYield\"),\n",
        "        \"52 Week High\": info.get(\"fiftyTwoWeekHigh\"),\n",
        "        \"52 Week Low\": info.get(\"fiftyTwoWeekLow\"),\n",
        "    }\n",
        "\n",
        "#checking the function output\n",
        "# get_fundamental_data('RELIANCE.NS')"
      ]
    },
    {
      "cell_type": "markdown",
      "metadata": {
        "id": "h36RZAQas6-4"
      },
      "source": [
        "Market Capitalization (Market Cap) is the total value of a company's outstanding shares in the stock market. It represents the company's size and worth in the market.\n",
        "\n",
        "Formula:  Stock Price × Shares, any change in stock price affects the market cap in real-time.\n",
        "If stock price increases, market cap rises.\n",
        "If stock price decreases, market cap falls."
      ]
    },
    {
      "cell_type": "markdown",
      "metadata": {
        "id": "JNc4c_OryPku"
      },
      "source": [
        "\n",
        "\n",
        "1. **Market Cap (Market Capitalization)** – The total value of a company’s outstanding shares, calculated as **Market Cap = Share Price × Shares Outstanding**. It indicates the company’s size and overall market value.  \n",
        "\n",
        "2. **P/E Ratio (Price-to-Earnings Ratio)** – A valuation metric that compares a company’s stock price to its earnings per share (EPS). **P/E Ratio = Share Price / EPS**. A high P/E suggests the stock is overvalued, while a low P/E may indicate undervaluation.  \n",
        "\n",
        "3. **EPS (Earnings Per Share)** – A measure of a company’s profitability, calculated as **EPS = Net Income / Total Shares Outstanding**. It represents how much profit a company makes per share of stock.  \n",
        "\n",
        "4. **Dividend Yield** – The percentage of a company’s share price that is paid to shareholders as dividends annually. **Dividend Yield = (Annual Dividend per Share / Share Price) × 100**. A higher yield suggests better returns from dividends.  \n",
        "\n",
        "5. **52 Week High** – The highest price at which a stock has traded in the past 52 weeks. It helps investors understand the stock’s price range and volatility.  \n",
        "\n",
        "6. **52 Week Low** – The lowest price at which a stock has traded in the past 52 weeks. Investors use this to assess potential buying opportunities.  \n",
        "\n",
        "7. **Shares Outstanding** – The total number of a company’s shares that are currently held by investors, including institutional and retail investors. It affects market cap and EPS calculations.  "
      ]
    },
    {
      "cell_type": "code",
      "execution_count": 14,
      "metadata": {
        "id": "Gel_OlwFvLDs"
      },
      "outputs": [],
      "source": [
        "def clean_data(data):\n",
        "    data = data.dropna() #Some indices like- SMA, will have nan values for some of the first values\n",
        "    data = data.drop(['Dividends','Stock Splits'], axis =1) #Remove these 2 columsn as sthey are un necessary for prediction\n",
        "    return data\n",
        "\n",
        "\n",
        "\n",
        "def preprocess(ticker):\n",
        "    data = calculate_indicators(data)\n",
        "    \n",
        "    \n",
        "    data = clean_data(data)\n",
        "\n",
        "    return data\n",
        "\n",
        "\n",
        "\n"
      ]
    },
    {
      "cell_type": "code",
      "execution_count": 15,
      "metadata": {},
      "outputs": [],
      "source": [
        "# nifty = [\n",
        "#     \"ADANIENT.NS\", \"ADANIGREEN.NS\", \"ADANIPORTS.NS\", \"AMBUJACEM.NS\",\n",
        "#     \"ASIANPAINT.NS\", \"AXISBANK.NS\", \"BAJAJ-AUTO.NS\", \"BAJAJFINSV.NS\", \"BAJFINANCE.NS\",\n",
        "#     \"BHARTIARTL.NS\", \"BPCL.NS\", \"BRITANNIA.NS\", \"CIPLA.NS\", \"COALINDIA.NS\",\n",
        "#     \"DIVISLAB.NS\", \"DRREDDY.NS\", \"GRASIM.NS\", \"HCLTECH.NS\", \"HDFCBANK.NS\", \"HDFCLIFE.NS\", \"HEROMOTOCO.NS\", \"HINDALCO.NS\",\n",
        "#     \"HINDUNILVR.NS\", \"ICICIBANK.NS\", \"INDUSINDBK.NS\", \"INFY.NS\", \"ITC.NS\",\n",
        "#     \"JSWSTEEL.NS\", \"KOTAKBANK.NS\", \"LT.NS\", \"M&M.NS\", \"MARUTI.NS\",\n",
        "#     \"NESTLEIND.NS\", \"NTPC.NS\", \"ONGC.NS\", \"POWERGRID.NS\", \"RELIANCE.NS\",\n",
        "#     \"SBILIFE.NS\", \"SBIN.NS\", \"SUNPHARMA.NS\", \"TATACONSUM.NS\", \"TATAMOTORS.NS\",\n",
        "#     \"TATASTEEL.NS\", \"TCS.NS\", \"TECHM.NS\", \"TITAN.NS\", \"ULTRACEMCO.NS\",\n",
        "#     \"UPL.NS\", \"WIPRO.NS\"\n",
        "# ]\n"
      ]
    },
    {
      "cell_type": "code",
      "execution_count": 16,
      "metadata": {},
      "outputs": [],
      "source": [
        "# nifty_200 = [\n",
        "#     \"ADANIENT.NS\", \"ADANIGREEN.NS\", \"ADANIPORTS.NS\", \"ADANITRANS.NS\", \"AMBUJACEM.NS\",\n",
        "#     \"ASIANPAINT.NS\", \"AXISBANK.NS\", \"BAJAJ-AUTO.NS\", \"BAJAJFINSV.NS\", \"BAJFINANCE.NS\",\n",
        "#     \"BHARTIARTL.NS\", \"BPCL.NS\", \"BRITANNIA.NS\", \"CIPLA.NS\", \"COALINDIA.NS\",\n",
        "#     \"DIVISLAB.NS\", \"DRREDDY.NS\", \"EICHERMOT.NS\", \"GRASIM.NS\", \"HCLTECH.NS\",\n",
        "#     \"HDFC.NS\", \"HDFCBANK.NS\", \"HDFCLIFE.NS\", \"HEROMOTOCO.NS\", \"HINDALCO.NS\",\n",
        "#     \"HINDUNILVR.NS\", \"ICICIBANK.NS\", \"INDUSINDBK.NS\", \"INFY.NS\", \"ITC.NS\",\n",
        "#     \"JSWSTEEL.NS\", \"KOTAKBANK.NS\", \"LT.NS\", \"M&M.NS\", \"MARUTI.NS\",\n",
        "#     \"NESTLEIND.NS\", \"NTPC.NS\", \"ONGC.NS\", \"POWERGRID.NS\", \"RELIANCE.NS\",\n",
        "#     \"SBILIFE.NS\", \"SBIN.NS\", \"SUNPHARMA.NS\", \"TATACONSUM.NS\", \"TATAMOTORS.NS\",\n",
        "#     \"TATASTEEL.NS\", \"TCS.NS\", \"TECHM.NS\", \"TITAN.NS\", \"ULTRACEMCO.NS\",\n",
        "#     \"UPL.NS\", \"WIPRO.NS\", \"ABB.NS\", \"ABCAPITAL.NS\", \"ABFRL.NS\",\n",
        "#     \"ACC.NS\", \"ADANIPOWER.NS\", \"ALKEM.NS\", \"AMARAJABAT.NS\", \"APOLLOHOSP.NS\",\n",
        "#     \"APOLLOTYRE.NS\", \"ASHOKLEY.NS\", \"AUROPHARMA.NS\", \"BALKRISIND.NS\", \"BANDHANBNK.NS\",\n",
        "#     \"BANKBARODA.NS\", \"BEL.NS\", \"BERGEPAINT.NS\", \"BHARATFORG.NS\", \"BHEL.NS\",\n",
        "#     \"BIOCON.NS\", \"BOSCHLTD.NS\", \"CANBK.NS\", \"CASTROLIND.NS\", \"CHOLAFIN.NS\",\n",
        "#     \"CROMPTON.NS\", \"CUMMINSIND.NS\", \"DABUR.NS\", \"DALBHARAT.NS\", \"DEEPAKNTR.NS\",\n",
        "#     \"DLF.NS\", \"DIXON.NS\", \"ESCORTS.NS\", \"EXIDEIND.NS\", \"FEDERALBNK.NS\",\n",
        "#     \"GAIL.NS\", \"GLAND.NS\", \"GLENMARK.NS\", \"GMRINFRA.NS\", \"GODREJCP.NS\",\n",
        "#     \"GODREJPROP.NS\", \"HAVELLS.NS\", \"HINDCOPPER.NS\", \"HINDPETRO.NS\", \"HONAUT.NS\",\n",
        "#     \"IBULHSGFIN.NS\", \"IDFCFIRSTB.NS\", \"IEX.NS\", \"IGL.NS\", \"INDHOTEL.NS\",\n",
        "#     \"INDIGO.NS\", \"INDUSTOWER.NS\", \"IPCALAB.NS\", \"IRCTC.NS\", \"JINDALSTEL.NS\",\n",
        "#     \"JUBLFOOD.NS\", \"L&TFH.NS\", \"LICHSGFIN.NS\", \"LUPIN.NS\", \"M&MFIN.NS\",\n",
        "#     \"MANAPPURAM.NS\", \"MFSL.NS\", \"MGL.NS\", \"MINDTREE.NS\", \"MOTHERSUMI.NS\",\n",
        "#     \"MPHASIS.NS\", \"MRF.NS\", \"NAM-INDIA.NS\", \"NAUKRI.NS\", \"NAVINFLUOR.NS\",\n",
        "#     \"NMDC.NS\", \"NOCIL.NS\", \"OBEROIRLTY.NS\", \"OFSS.NS\", \"PAGEIND.NS\",\n",
        "#     \"PEL.NS\", \"PETRONET.NS\", \"PFIZER.NS\", \"PIIND.NS\", \"PNB.NS\",\n",
        "#     \"POLYCAB.NS\", \"PVR.NS\", \"RAMCOCEM.NS\", \"RBLBANK.NS\", \"RECLTD.NS\",\n",
        "#     \"SAIL.NS\", \"SBICARD.NS\", \"SHREECEM.NS\", \"SIEMENS.NS\", \"SRF.NS\",\n",
        "#     \"SRTRANSFIN.NS\", \"STAR.NS\", \"SUNTV.NS\", \"SYNGENE.NS\", \"TATACHEM.NS\",\n",
        "#     \"TATACOMM.NS\", \"TATAPOWER.NS\", \"TORNTPHARM.NS\", \"TORNTPOWER.NS\", \"TRENT.NS\",\n",
        "#     \"TVSMOTOR.NS\", \"UBL.NS\", \"VEDL.NS\", \"VOLTAS.NS\", \"WHIRLPOOL.NS\",\n",
        "#     \"ZEEL.NS\", \"ZYDUSLIFE.NS\"\n",
        "# ]\n"
      ]
    },
    {
      "cell_type": "code",
      "execution_count": 17,
      "metadata": {
        "id": "b_GhGi56vLaU"
      },
      "outputs": [],
      "source": [
        "# for ticker in nifty:\n",
        "#     try:\n",
        "#         data = main(ticker)\n",
        "#     except:\n",
        "#         continue\n",
        "\n",
        "#     if data.shape != 0:\n",
        "#         data.to_csv(f'stock_50\\{ticker}.csv')\n",
        "    \n",
        "\n"
      ]
    },
    {
      "cell_type": "code",
      "execution_count": 18,
      "metadata": {
        "id": "gQBPRoRC12in"
      },
      "outputs": [],
      "source": [
        "# data.to_csv('NESTLEIND.NS.csv')"
      ]
    },
    {
      "cell_type": "code",
      "execution_count": 19,
      "metadata": {
        "id": "mEIqhs7ILBZl"
      },
      "outputs": [],
      "source": [
        "# data.shape"
      ]
    },
    {
      "cell_type": "code",
      "execution_count": 20,
      "metadata": {},
      "outputs": [],
      "source": [
        "# data.head()"
      ]
    },
    {
      "cell_type": "code",
      "execution_count": null,
      "metadata": {},
      "outputs": [],
      "source": []
    }
  ],
  "metadata": {
    "colab": {
      "provenance": []
    },
    "kernelspec": {
      "display_name": "base",
      "language": "python",
      "name": "python3"
    },
    "language_info": {
      "codemirror_mode": {
        "name": "ipython",
        "version": 3
      },
      "file_extension": ".py",
      "mimetype": "text/x-python",
      "name": "python",
      "nbconvert_exporter": "python",
      "pygments_lexer": "ipython3",
      "version": "3.12.3"
    }
  },
  "nbformat": 4,
  "nbformat_minor": 0
}
